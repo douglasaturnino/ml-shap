{
 "cells": [
  {
   "cell_type": "markdown",
   "metadata": {},
   "source": [
    "# BIBLIOTECAS"
   ]
  },
  {
   "cell_type": "code",
   "execution_count": 24,
   "metadata": {},
   "outputs": [],
   "source": [
    "import pandas as pd\n",
    "import yaml\n",
    "import numpy as np\n",
    "\n",
    "from IPython.core.display import HTML\n",
    "from IPython.display import Image\n",
    "\n",
    "from  matplotlib import pyplot as plt\n",
    "import seaborn as sns\n",
    "plt.rcParams[\"figure.figsize\"] = 12,8\n",
    "\n",
    "pd.set_option('display.max_columns', 30)"
   ]
  },
  {
   "cell_type": "markdown",
   "metadata": {},
   "source": [
    "# Funçoes Auxiliares"
   ]
  },
  {
   "cell_type": "code",
   "execution_count": 5,
   "metadata": {},
   "outputs": [],
   "source": [
    "def import_config(path_yaml):\n",
    "    with open(path_yaml) as config_file:\n",
    "        config = yaml.safe_load(config_file)\n",
    "    return config"
   ]
  },
  {
   "cell_type": "markdown",
   "metadata": {},
   "source": [
    "# 1.0 IMPORT DATA AND CONFIG"
   ]
  },
  {
   "cell_type": "markdown",
   "metadata": {},
   "source": [
    "### 1.1 CONFIG"
   ]
  },
  {
   "cell_type": "code",
   "execution_count": 6,
   "metadata": {},
   "outputs": [],
   "source": [
    "config = import_config('config.yaml')"
   ]
  },
  {
   "cell_type": "code",
   "execution_count": 7,
   "metadata": {},
   "outputs": [
    {
     "data": {
      "text/plain": [
       "'../data/raw/raw_data.csv'"
      ]
     },
     "execution_count": 16,
     "metadata": {},
     "output_type": "execute_result"
    }
   ],
   "source": [
    "config['data']['raw_path']"
   ]
  },
  {
   "cell_type": "markdown",
   "metadata": {},
   "source": [
    "## 1.2 DATA"
   ]
  },
  {
   "cell_type": "code",
   "execution_count": 8,
   "metadata": {},
   "outputs": [],
   "source": [
    "df1 = pd.read_csv(config['data']['raw_path'])"
   ]
  },
  {
   "cell_type": "code",
   "execution_count": 42,
   "metadata": {},
   "outputs": [
    {
     "data": {
      "text/html": [
       "<div>\n",
       "<style scoped>\n",
       "    .dataframe tbody tr th:only-of-type {\n",
       "        vertical-align: middle;\n",
       "    }\n",
       "\n",
       "    .dataframe tbody tr th {\n",
       "        vertical-align: top;\n",
       "    }\n",
       "\n",
       "    .dataframe thead th {\n",
       "        text-align: right;\n",
       "    }\n",
       "</style>\n",
       "<table border=\"1\" class=\"dataframe\">\n",
       "  <thead>\n",
       "    <tr style=\"text-align: right;\">\n",
       "      <th></th>\n",
       "      <th>escolaridade</th>\n",
       "      <th>renda_mensal_informal</th>\n",
       "      <th>dependentes</th>\n",
       "      <th>estado_civil</th>\n",
       "      <th>idade</th>\n",
       "      <th>conta_poupanca</th>\n",
       "      <th>conta_salario</th>\n",
       "      <th>qtd_fonte_renda</th>\n",
       "      <th>cheque_sem_fundo</th>\n",
       "      <th>conta_conjunta</th>\n",
       "      <th>...</th>\n",
       "      <th>valor_conta_poupanca</th>\n",
       "      <th>valor_emprestimo</th>\n",
       "      <th>multa</th>\n",
       "      <th>juros</th>\n",
       "      <th>valor_emprestimo_atualizado</th>\n",
       "      <th>pago</th>\n",
       "      <th>id</th>\n",
       "      <th>genero</th>\n",
       "      <th>data</th>\n",
       "      <th>estado</th>\n",
       "    </tr>\n",
       "  </thead>\n",
       "  <tbody>\n",
       "    <tr>\n",
       "      <th>0</th>\n",
       "      <td>NaN</td>\n",
       "      <td>NaN</td>\n",
       "      <td>S</td>\n",
       "      <td>solteiro</td>\n",
       "      <td>36</td>\n",
       "      <td>S</td>\n",
       "      <td>N</td>\n",
       "      <td>NaN</td>\n",
       "      <td>S</td>\n",
       "      <td>N</td>\n",
       "      <td>...</td>\n",
       "      <td>NaN</td>\n",
       "      <td>8174.32</td>\n",
       "      <td>263.25</td>\n",
       "      <td>5844.98</td>\n",
       "      <td>14282.55</td>\n",
       "      <td>sim</td>\n",
       "      <td>309652396</td>\n",
       "      <td>feminino</td>\n",
       "      <td>2020-01-01</td>\n",
       "      <td>minas gerais</td>\n",
       "    </tr>\n",
       "    <tr>\n",
       "      <th>1</th>\n",
       "      <td>nivel medio</td>\n",
       "      <td>1894.5078</td>\n",
       "      <td>N</td>\n",
       "      <td>solteiro</td>\n",
       "      <td>39</td>\n",
       "      <td>S</td>\n",
       "      <td>N</td>\n",
       "      <td>1.0</td>\n",
       "      <td>N</td>\n",
       "      <td>N</td>\n",
       "      <td>...</td>\n",
       "      <td>NaN</td>\n",
       "      <td>41775.63</td>\n",
       "      <td>1607.29</td>\n",
       "      <td>7652.26</td>\n",
       "      <td>51035.18</td>\n",
       "      <td>sim</td>\n",
       "      <td>498764591</td>\n",
       "      <td>feminino</td>\n",
       "      <td>2020-01-01</td>\n",
       "      <td>espirito santo</td>\n",
       "    </tr>\n",
       "    <tr>\n",
       "      <th>2</th>\n",
       "      <td>nivel medio</td>\n",
       "      <td>NaN</td>\n",
       "      <td>S</td>\n",
       "      <td>solteiro</td>\n",
       "      <td>26</td>\n",
       "      <td>S</td>\n",
       "      <td>N</td>\n",
       "      <td>1.0</td>\n",
       "      <td>N</td>\n",
       "      <td>N</td>\n",
       "      <td>...</td>\n",
       "      <td>NaN</td>\n",
       "      <td>522940.27</td>\n",
       "      <td>24860.40</td>\n",
       "      <td>319315.62</td>\n",
       "      <td>867116.29</td>\n",
       "      <td>sim</td>\n",
       "      <td>504868288</td>\n",
       "      <td>masculino</td>\n",
       "      <td>2020-01-01</td>\n",
       "      <td>sao paulo</td>\n",
       "    </tr>\n",
       "    <tr>\n",
       "      <th>3</th>\n",
       "      <td>NaN</td>\n",
       "      <td>NaN</td>\n",
       "      <td>N</td>\n",
       "      <td>casado(a) com comunhao de bens</td>\n",
       "      <td>23</td>\n",
       "      <td>N</td>\n",
       "      <td>N</td>\n",
       "      <td>NaN</td>\n",
       "      <td>S</td>\n",
       "      <td>N</td>\n",
       "      <td>...</td>\n",
       "      <td>NaN</td>\n",
       "      <td>1418.00</td>\n",
       "      <td>21472.36</td>\n",
       "      <td>2967.48</td>\n",
       "      <td>25857.84</td>\n",
       "      <td>sim</td>\n",
       "      <td>541365315</td>\n",
       "      <td>feminino</td>\n",
       "      <td>2020-01-01</td>\n",
       "      <td>sao paulo</td>\n",
       "    </tr>\n",
       "    <tr>\n",
       "      <th>4</th>\n",
       "      <td>NaN</td>\n",
       "      <td>NaN</td>\n",
       "      <td>S</td>\n",
       "      <td>solteiro</td>\n",
       "      <td>33</td>\n",
       "      <td>S</td>\n",
       "      <td>N</td>\n",
       "      <td>NaN</td>\n",
       "      <td>S</td>\n",
       "      <td>N</td>\n",
       "      <td>...</td>\n",
       "      <td>NaN</td>\n",
       "      <td>2078.97</td>\n",
       "      <td>19.44</td>\n",
       "      <td>46.35</td>\n",
       "      <td>2144.76</td>\n",
       "      <td>sim</td>\n",
       "      <td>563622907</td>\n",
       "      <td>masculino</td>\n",
       "      <td>2020-01-01</td>\n",
       "      <td>espirito santo</td>\n",
       "    </tr>\n",
       "  </tbody>\n",
       "</table>\n",
       "<p>5 rows × 21 columns</p>\n",
       "</div>"
      ],
      "text/plain": [
       "  escolaridade  renda_mensal_informal dependentes  \\\n",
       "0          NaN                    NaN           S   \n",
       "1  nivel medio              1894.5078           N   \n",
       "2  nivel medio                    NaN           S   \n",
       "3          NaN                    NaN           N   \n",
       "4          NaN                    NaN           S   \n",
       "\n",
       "                     estado_civil  idade conta_poupanca conta_salario  \\\n",
       "0                        solteiro     36              S             N   \n",
       "1                        solteiro     39              S             N   \n",
       "2                        solteiro     26              S             N   \n",
       "3  casado(a) com comunhao de bens     23              N             N   \n",
       "4                        solteiro     33              S             N   \n",
       "\n",
       "   qtd_fonte_renda cheque_sem_fundo conta_conjunta  ...  valor_conta_poupanca  \\\n",
       "0              NaN                S              N  ...                   NaN   \n",
       "1              1.0                N              N  ...                   NaN   \n",
       "2              1.0                N              N  ...                   NaN   \n",
       "3              NaN                S              N  ...                   NaN   \n",
       "4              NaN                S              N  ...                   NaN   \n",
       "\n",
       "   valor_emprestimo     multa      juros  valor_emprestimo_atualizado  pago  \\\n",
       "0           8174.32    263.25    5844.98                     14282.55   sim   \n",
       "1          41775.63   1607.29    7652.26                     51035.18   sim   \n",
       "2         522940.27  24860.40  319315.62                    867116.29   sim   \n",
       "3           1418.00  21472.36    2967.48                     25857.84   sim   \n",
       "4           2078.97     19.44      46.35                      2144.76   sim   \n",
       "\n",
       "          id     genero        data          estado  \n",
       "0  309652396   feminino  2020-01-01    minas gerais  \n",
       "1  498764591   feminino  2020-01-01  espirito santo  \n",
       "2  504868288  masculino  2020-01-01       sao paulo  \n",
       "3  541365315   feminino  2020-01-01       sao paulo  \n",
       "4  563622907  masculino  2020-01-01  espirito santo  \n",
       "\n",
       "[5 rows x 21 columns]"
      ]
     },
     "execution_count": 18,
     "metadata": {},
     "output_type": "execute_result"
    }
   ],
   "source": [
    "df1.head()"
   ]
  },
  {
   "cell_type": "markdown",
   "metadata": {},
   "source": [
    "# 2.0 DATA CLEAN"
   ]
  },
  {
   "cell_type": "code",
   "execution_count": 9,
   "metadata": {},
   "outputs": [],
   "source": [
    "df2 = df1.copy()"
   ]
  },
  {
   "cell_type": "markdown",
   "metadata": {},
   "source": [
    "## 2.1 DESCRIÇÃO DOS DADOS"
   ]
  },
  {
   "cell_type": "code",
   "execution_count": 44,
   "metadata": {},
   "outputs": [
    {
     "data": {
      "text/html": [
       "<div>\n",
       "<style scoped>\n",
       "    .dataframe tbody tr th:only-of-type {\n",
       "        vertical-align: middle;\n",
       "    }\n",
       "\n",
       "    .dataframe tbody tr th {\n",
       "        vertical-align: top;\n",
       "    }\n",
       "\n",
       "    .dataframe thead th {\n",
       "        text-align: right;\n",
       "    }\n",
       "</style>\n",
       "<table border=\"1\" class=\"dataframe\">\n",
       "  <thead>\n",
       "    <tr style=\"text-align: right;\">\n",
       "      <th></th>\n",
       "      <th>escolaridade</th>\n",
       "      <th>renda_mensal_informal</th>\n",
       "      <th>dependentes</th>\n",
       "      <th>estado_civil</th>\n",
       "      <th>idade</th>\n",
       "      <th>conta_poupanca</th>\n",
       "      <th>conta_salario</th>\n",
       "      <th>qtd_fonte_renda</th>\n",
       "      <th>cheque_sem_fundo</th>\n",
       "      <th>conta_conjunta</th>\n",
       "      <th>valor_conta_corrente</th>\n",
       "      <th>valor_conta_poupanca</th>\n",
       "      <th>valor_emprestimo</th>\n",
       "      <th>multa</th>\n",
       "      <th>juros</th>\n",
       "      <th>valor_emprestimo_atualizado</th>\n",
       "      <th>pago</th>\n",
       "      <th>id</th>\n",
       "      <th>genero</th>\n",
       "      <th>data</th>\n",
       "      <th>estado</th>\n",
       "    </tr>\n",
       "  </thead>\n",
       "  <tbody>\n",
       "    <tr>\n",
       "      <th>0</th>\n",
       "      <td>NaN</td>\n",
       "      <td>NaN</td>\n",
       "      <td>S</td>\n",
       "      <td>solteiro</td>\n",
       "      <td>36</td>\n",
       "      <td>S</td>\n",
       "      <td>N</td>\n",
       "      <td>NaN</td>\n",
       "      <td>S</td>\n",
       "      <td>N</td>\n",
       "      <td>NaN</td>\n",
       "      <td>NaN</td>\n",
       "      <td>8174.32</td>\n",
       "      <td>263.25</td>\n",
       "      <td>5844.98</td>\n",
       "      <td>14282.55</td>\n",
       "      <td>sim</td>\n",
       "      <td>309652396</td>\n",
       "      <td>feminino</td>\n",
       "      <td>2020-01-01</td>\n",
       "      <td>minas gerais</td>\n",
       "    </tr>\n",
       "    <tr>\n",
       "      <th>1</th>\n",
       "      <td>nivel medio</td>\n",
       "      <td>1894.5078</td>\n",
       "      <td>N</td>\n",
       "      <td>solteiro</td>\n",
       "      <td>39</td>\n",
       "      <td>S</td>\n",
       "      <td>N</td>\n",
       "      <td>1.0</td>\n",
       "      <td>N</td>\n",
       "      <td>N</td>\n",
       "      <td>NaN</td>\n",
       "      <td>NaN</td>\n",
       "      <td>41775.63</td>\n",
       "      <td>1607.29</td>\n",
       "      <td>7652.26</td>\n",
       "      <td>51035.18</td>\n",
       "      <td>sim</td>\n",
       "      <td>498764591</td>\n",
       "      <td>feminino</td>\n",
       "      <td>2020-01-01</td>\n",
       "      <td>espirito santo</td>\n",
       "    </tr>\n",
       "    <tr>\n",
       "      <th>2</th>\n",
       "      <td>nivel medio</td>\n",
       "      <td>NaN</td>\n",
       "      <td>S</td>\n",
       "      <td>solteiro</td>\n",
       "      <td>26</td>\n",
       "      <td>S</td>\n",
       "      <td>N</td>\n",
       "      <td>1.0</td>\n",
       "      <td>N</td>\n",
       "      <td>N</td>\n",
       "      <td>NaN</td>\n",
       "      <td>NaN</td>\n",
       "      <td>522940.27</td>\n",
       "      <td>24860.40</td>\n",
       "      <td>319315.62</td>\n",
       "      <td>867116.29</td>\n",
       "      <td>sim</td>\n",
       "      <td>504868288</td>\n",
       "      <td>masculino</td>\n",
       "      <td>2020-01-01</td>\n",
       "      <td>sao paulo</td>\n",
       "    </tr>\n",
       "    <tr>\n",
       "      <th>3</th>\n",
       "      <td>NaN</td>\n",
       "      <td>NaN</td>\n",
       "      <td>N</td>\n",
       "      <td>casado(a) com comunhao de bens</td>\n",
       "      <td>23</td>\n",
       "      <td>N</td>\n",
       "      <td>N</td>\n",
       "      <td>NaN</td>\n",
       "      <td>S</td>\n",
       "      <td>N</td>\n",
       "      <td>NaN</td>\n",
       "      <td>NaN</td>\n",
       "      <td>1418.00</td>\n",
       "      <td>21472.36</td>\n",
       "      <td>2967.48</td>\n",
       "      <td>25857.84</td>\n",
       "      <td>sim</td>\n",
       "      <td>541365315</td>\n",
       "      <td>feminino</td>\n",
       "      <td>2020-01-01</td>\n",
       "      <td>sao paulo</td>\n",
       "    </tr>\n",
       "    <tr>\n",
       "      <th>4</th>\n",
       "      <td>NaN</td>\n",
       "      <td>NaN</td>\n",
       "      <td>S</td>\n",
       "      <td>solteiro</td>\n",
       "      <td>33</td>\n",
       "      <td>S</td>\n",
       "      <td>N</td>\n",
       "      <td>NaN</td>\n",
       "      <td>S</td>\n",
       "      <td>N</td>\n",
       "      <td>NaN</td>\n",
       "      <td>NaN</td>\n",
       "      <td>2078.97</td>\n",
       "      <td>19.44</td>\n",
       "      <td>46.35</td>\n",
       "      <td>2144.76</td>\n",
       "      <td>sim</td>\n",
       "      <td>563622907</td>\n",
       "      <td>masculino</td>\n",
       "      <td>2020-01-01</td>\n",
       "      <td>espirito santo</td>\n",
       "    </tr>\n",
       "  </tbody>\n",
       "</table>\n",
       "</div>"
      ],
      "text/plain": [
       "  escolaridade  renda_mensal_informal dependentes  \\\n",
       "0          NaN                    NaN           S   \n",
       "1  nivel medio              1894.5078           N   \n",
       "2  nivel medio                    NaN           S   \n",
       "3          NaN                    NaN           N   \n",
       "4          NaN                    NaN           S   \n",
       "\n",
       "                     estado_civil  idade conta_poupanca conta_salario  \\\n",
       "0                        solteiro     36              S             N   \n",
       "1                        solteiro     39              S             N   \n",
       "2                        solteiro     26              S             N   \n",
       "3  casado(a) com comunhao de bens     23              N             N   \n",
       "4                        solteiro     33              S             N   \n",
       "\n",
       "   qtd_fonte_renda cheque_sem_fundo conta_conjunta  valor_conta_corrente  \\\n",
       "0              NaN                S              N                   NaN   \n",
       "1              1.0                N              N                   NaN   \n",
       "2              1.0                N              N                   NaN   \n",
       "3              NaN                S              N                   NaN   \n",
       "4              NaN                S              N                   NaN   \n",
       "\n",
       "   valor_conta_poupanca  valor_emprestimo     multa      juros  \\\n",
       "0                   NaN           8174.32    263.25    5844.98   \n",
       "1                   NaN          41775.63   1607.29    7652.26   \n",
       "2                   NaN         522940.27  24860.40  319315.62   \n",
       "3                   NaN           1418.00  21472.36    2967.48   \n",
       "4                   NaN           2078.97     19.44      46.35   \n",
       "\n",
       "   valor_emprestimo_atualizado pago         id     genero        data  \\\n",
       "0                     14282.55  sim  309652396   feminino  2020-01-01   \n",
       "1                     51035.18  sim  498764591   feminino  2020-01-01   \n",
       "2                    867116.29  sim  504868288  masculino  2020-01-01   \n",
       "3                     25857.84  sim  541365315   feminino  2020-01-01   \n",
       "4                      2144.76  sim  563622907  masculino  2020-01-01   \n",
       "\n",
       "           estado  \n",
       "0    minas gerais  \n",
       "1  espirito santo  \n",
       "2       sao paulo  \n",
       "3       sao paulo  \n",
       "4  espirito santo  "
      ]
     },
     "execution_count": 21,
     "metadata": {},
     "output_type": "execute_result"
    }
   ],
   "source": [
    "df2.head()"
   ]
  },
  {
   "cell_type": "markdown",
   "metadata": {},
   "source": [
    "## 2.2 DIMENSÃO DOS DADOS"
   ]
  },
  {
   "cell_type": "code",
   "execution_count": 45,
   "metadata": {},
   "outputs": [
    {
     "data": {
      "text/plain": [
       "(50390, 21)"
      ]
     },
     "execution_count": 22,
     "metadata": {},
     "output_type": "execute_result"
    }
   ],
   "source": [
    "df2.shape"
   ]
  },
  {
   "cell_type": "markdown",
   "metadata": {},
   "source": [
    "## 2.3 TIPO DA COLUNA"
   ]
  },
  {
   "cell_type": "code",
   "execution_count": 46,
   "metadata": {},
   "outputs": [
    {
     "name": "stdout",
     "output_type": "stream",
     "text": [
      "<class 'pandas.core.frame.DataFrame'>\n",
      "RangeIndex: 50390 entries, 0 to 50389\n",
      "Data columns (total 21 columns):\n",
      " #   Column                       Non-Null Count  Dtype  \n",
      "---  ------                       --------------  -----  \n",
      " 0   escolaridade                 14615 non-null  object \n",
      " 1   renda_mensal_informal        9768 non-null   float64\n",
      " 2   dependentes                  50390 non-null  object \n",
      " 3   estado_civil                 50390 non-null  object \n",
      " 4   idade                        50390 non-null  int64  \n",
      " 5   conta_poupanca               50390 non-null  object \n",
      " 6   conta_salario                50390 non-null  object \n",
      " 7   qtd_fonte_renda              12806 non-null  float64\n",
      " 8   cheque_sem_fundo             50390 non-null  object \n",
      " 9   conta_conjunta               50390 non-null  object \n",
      " 10  valor_conta_corrente         0 non-null      float64\n",
      " 11  valor_conta_poupanca         0 non-null      float64\n",
      " 12  valor_emprestimo             50390 non-null  float64\n",
      " 13  multa                        50390 non-null  float64\n",
      " 14  juros                        50390 non-null  float64\n",
      " 15  valor_emprestimo_atualizado  50390 non-null  float64\n",
      " 16  pago                         50390 non-null  object \n",
      " 17  id                           50390 non-null  int64  \n",
      " 18  genero                       50390 non-null  object \n",
      " 19  data                         50390 non-null  object \n",
      " 20  estado                       50390 non-null  object \n",
      "dtypes: float64(8), int64(2), object(11)\n",
      "memory usage: 8.1+ MB\n"
     ]
    }
   ],
   "source": [
    "df2.info()"
   ]
  },
  {
   "cell_type": "markdown",
   "metadata": {},
   "source": [
    "## 2.4 CHECAR NAN VALUES"
   ]
  },
  {
   "cell_type": "code",
   "execution_count": 47,
   "metadata": {},
   "outputs": [
    {
     "data": {
      "text/plain": [
       "escolaridade                   0.709962\n",
       "renda_mensal_informal          0.806152\n",
       "dependentes                    0.000000\n",
       "estado_civil                   0.000000\n",
       "idade                          0.000000\n",
       "conta_poupanca                 0.000000\n",
       "conta_salario                  0.000000\n",
       "qtd_fonte_renda                0.745862\n",
       "cheque_sem_fundo               0.000000\n",
       "conta_conjunta                 0.000000\n",
       "valor_conta_corrente           1.000000\n",
       "valor_conta_poupanca           1.000000\n",
       "valor_emprestimo               0.000000\n",
       "multa                          0.000000\n",
       "juros                          0.000000\n",
       "valor_emprestimo_atualizado    0.000000\n",
       "pago                           0.000000\n",
       "id                             0.000000\n",
       "genero                         0.000000\n",
       "data                           0.000000\n",
       "estado                         0.000000\n",
       "dtype: float64"
      ]
     },
     "execution_count": 24,
     "metadata": {},
     "output_type": "execute_result"
    }
   ],
   "source": [
    "df2.isna().sum() / len(df2)"
   ]
  },
  {
   "cell_type": "markdown",
   "metadata": {},
   "source": [
    "## 2.5 DROPAR LINHAS DUPLICADAS"
   ]
  },
  {
   "cell_type": "code",
   "execution_count": 48,
   "metadata": {},
   "outputs": [
    {
     "data": {
      "text/plain": [
       "(50390, 21)"
      ]
     },
     "execution_count": 25,
     "metadata": {},
     "output_type": "execute_result"
    }
   ],
   "source": [
    "df2.drop_duplicates().shape"
   ]
  },
  {
   "cell_type": "markdown",
   "metadata": {},
   "source": [
    "## 2.6 MUDAR TIPO DA VARIAVAL"
   ]
  },
  {
   "cell_type": "code",
   "execution_count": 49,
   "metadata": {},
   "outputs": [],
   "source": [
    "df2['data'] = df2['data'].astype('datetime64[ns]')"
   ]
  },
  {
   "cell_type": "markdown",
   "metadata": {},
   "source": [
    "## 2.7 DROP COLUNAS"
   ]
  },
  {
   "cell_type": "code",
   "execution_count": 50,
   "metadata": {},
   "outputs": [],
   "source": [
    "# 100% vazio não tem como avaliar o dado\n",
    "df2 = df2.drop(['valor_conta_corrente', 'valor_conta_poupanca'], axis='columns')\n",
    "\n",
    "df2 = df2.drop(['escolaridade', 'renda_mensal_informal', 'qtd_fonte_renda'], axis='columns')\n",
    "\n",
    "df2 = df2.drop(['data'], axis='columns')\n"
   ]
  },
  {
   "cell_type": "markdown",
   "metadata": {},
   "source": [
    "## 2.8 ESTATISTICA DESCRITIVA"
   ]
  },
  {
   "cell_type": "code",
   "execution_count": 14,
   "metadata": {},
   "outputs": [],
   "source": [
    "num_attributes = df2.select_dtypes(include=['int64', 'float64'])\n",
    "\n",
    "cat_attributes = df2.select_dtypes(exclude=['int64', 'float64','datetime64[ns]'])\n"
   ]
  },
  {
   "cell_type": "markdown",
   "metadata": {},
   "source": [
    "### 2.8 .1 VARIAVES NUMERICAS"
   ]
  },
  {
   "cell_type": "code",
   "execution_count": 16,
   "metadata": {},
   "outputs": [
    {
     "data": {
      "text/html": [
       "<div>\n",
       "<style scoped>\n",
       "    .dataframe tbody tr th:only-of-type {\n",
       "        vertical-align: middle;\n",
       "    }\n",
       "\n",
       "    .dataframe tbody tr th {\n",
       "        vertical-align: top;\n",
       "    }\n",
       "\n",
       "    .dataframe thead th {\n",
       "        text-align: right;\n",
       "    }\n",
       "</style>\n",
       "<table border=\"1\" class=\"dataframe\">\n",
       "  <thead>\n",
       "    <tr style=\"text-align: right;\">\n",
       "      <th></th>\n",
       "      <th>attributes</th>\n",
       "      <th>min</th>\n",
       "      <th>max</th>\n",
       "      <th>range</th>\n",
       "      <th>mean</th>\n",
       "      <th>median</th>\n",
       "      <th>std</th>\n",
       "      <th>skew</th>\n",
       "      <th>kurtosis</th>\n",
       "    </tr>\n",
       "  </thead>\n",
       "  <tbody>\n",
       "    <tr>\n",
       "      <th>0</th>\n",
       "      <td>idade</td>\n",
       "      <td>1.800000e+01</td>\n",
       "      <td>1.130000e+02</td>\n",
       "      <td>9.500000e+01</td>\n",
       "      <td>3.172453e+01</td>\n",
       "      <td>3.000000e+01</td>\n",
       "      <td>8.565032e+00</td>\n",
       "      <td>1.959951</td>\n",
       "      <td>7.223175</td>\n",
       "    </tr>\n",
       "    <tr>\n",
       "      <th>1</th>\n",
       "      <td>valor_emprestimo</td>\n",
       "      <td>1.393000e+03</td>\n",
       "      <td>2.867894e+08</td>\n",
       "      <td>2.867880e+08</td>\n",
       "      <td>5.198887e+04</td>\n",
       "      <td>2.298035e+03</td>\n",
       "      <td>1.588803e+06</td>\n",
       "      <td>135.859233</td>\n",
       "      <td>22605.724510</td>\n",
       "    </tr>\n",
       "    <tr>\n",
       "      <th>2</th>\n",
       "      <td>multa</td>\n",
       "      <td>0.000000e+00</td>\n",
       "      <td>5.737759e+08</td>\n",
       "      <td>5.737759e+08</td>\n",
       "      <td>6.022658e+04</td>\n",
       "      <td>6.489650e+02</td>\n",
       "      <td>2.843913e+06</td>\n",
       "      <td>171.305766</td>\n",
       "      <td>33333.600930</td>\n",
       "    </tr>\n",
       "    <tr>\n",
       "      <th>3</th>\n",
       "      <td>juros</td>\n",
       "      <td>0.000000e+00</td>\n",
       "      <td>5.703619e+08</td>\n",
       "      <td>5.703619e+08</td>\n",
       "      <td>6.485391e+04</td>\n",
       "      <td>1.143320e+03</td>\n",
       "      <td>2.728143e+06</td>\n",
       "      <td>184.431138</td>\n",
       "      <td>38002.805365</td>\n",
       "    </tr>\n",
       "    <tr>\n",
       "      <th>4</th>\n",
       "      <td>valor_emprestimo_atualizado</td>\n",
       "      <td>1.397040e+03</td>\n",
       "      <td>1.430927e+09</td>\n",
       "      <td>1.430926e+09</td>\n",
       "      <td>1.770694e+05</td>\n",
       "      <td>5.652695e+03</td>\n",
       "      <td>7.058294e+06</td>\n",
       "      <td>171.822788</td>\n",
       "      <td>33820.743108</td>\n",
       "    </tr>\n",
       "    <tr>\n",
       "      <th>5</th>\n",
       "      <td>id</td>\n",
       "      <td>1.000172e+08</td>\n",
       "      <td>9.999988e+08</td>\n",
       "      <td>8.999816e+08</td>\n",
       "      <td>5.485969e+08</td>\n",
       "      <td>5.482058e+08</td>\n",
       "      <td>2.601475e+08</td>\n",
       "      <td>0.007412</td>\n",
       "      <td>-1.203943</td>\n",
       "    </tr>\n",
       "  </tbody>\n",
       "</table>\n",
       "</div>"
      ],
      "text/plain": [
       "                    attributes           min           max         range  \\\n",
       "0                        idade  1.800000e+01  1.130000e+02  9.500000e+01   \n",
       "1             valor_emprestimo  1.393000e+03  2.867894e+08  2.867880e+08   \n",
       "2                        multa  0.000000e+00  5.737759e+08  5.737759e+08   \n",
       "3                        juros  0.000000e+00  5.703619e+08  5.703619e+08   \n",
       "4  valor_emprestimo_atualizado  1.397040e+03  1.430927e+09  1.430926e+09   \n",
       "5                           id  1.000172e+08  9.999988e+08  8.999816e+08   \n",
       "\n",
       "           mean        median           std        skew      kurtosis  \n",
       "0  3.172453e+01  3.000000e+01  8.565032e+00    1.959951      7.223175  \n",
       "1  5.198887e+04  2.298035e+03  1.588803e+06  135.859233  22605.724510  \n",
       "2  6.022658e+04  6.489650e+02  2.843913e+06  171.305766  33333.600930  \n",
       "3  6.485391e+04  1.143320e+03  2.728143e+06  184.431138  38002.805365  \n",
       "4  1.770694e+05  5.652695e+03  7.058294e+06  171.822788  33820.743108  \n",
       "5  5.485969e+08  5.482058e+08  2.601475e+08    0.007412     -1.203943  "
      ]
     },
     "execution_count": 16,
     "metadata": {},
     "output_type": "execute_result"
    }
   ],
   "source": [
    "# Tendencia central - mean, median\n",
    "ct1 = pd.DataFrame(num_attributes.apply(np.mean)).T\n",
    "ct2 = pd.DataFrame(num_attributes.apply(np.median)).T\n",
    "\n",
    "# Dispersion - sdt, min, max, range, skew, kurtosis\n",
    "\n",
    "d1 = pd.DataFrame( num_attributes.apply(np.std)).T\n",
    "d2 = pd.DataFrame( num_attributes.apply(np.min)).T\n",
    "d3 = pd.DataFrame( num_attributes.apply(np.max)).T\n",
    "d4 = pd.DataFrame( num_attributes.apply(lambda x: x.max() - x.min())).T\n",
    "d5 = pd.DataFrame( num_attributes.apply(lambda x: x.skew())).T\n",
    "d6 = pd.DataFrame( num_attributes.apply(lambda x: x.kurtosis())).T\n",
    "\n",
    "m = pd.concat([d2, d3, d4, ct1, ct2, d1, d5, d6]).T.reset_index()\n",
    "m.columns = ['attributes','min','max','range','mean','median','std','skew','kurtosis']\n",
    "m"
   ]
  },
  {
   "cell_type": "code",
   "execution_count": 19,
   "metadata": {},
   "outputs": [
    {
     "data": {
      "text/html": [
       "<div>\n",
       "<style scoped>\n",
       "    .dataframe tbody tr th:only-of-type {\n",
       "        vertical-align: middle;\n",
       "    }\n",
       "\n",
       "    .dataframe tbody tr th {\n",
       "        vertical-align: top;\n",
       "    }\n",
       "\n",
       "    .dataframe thead th {\n",
       "        text-align: right;\n",
       "    }\n",
       "</style>\n",
       "<table border=\"1\" class=\"dataframe\">\n",
       "  <thead>\n",
       "    <tr style=\"text-align: right;\">\n",
       "      <th></th>\n",
       "      <th>count</th>\n",
       "      <th>mean</th>\n",
       "      <th>std</th>\n",
       "      <th>min</th>\n",
       "      <th>50%</th>\n",
       "      <th>75%</th>\n",
       "      <th>95%</th>\n",
       "      <th>99%</th>\n",
       "      <th>max</th>\n",
       "    </tr>\n",
       "  </thead>\n",
       "  <tbody>\n",
       "    <tr>\n",
       "      <th>idade</th>\n",
       "      <td>50390.0</td>\n",
       "      <td>3.172453e+01</td>\n",
       "      <td>8.565117e+00</td>\n",
       "      <td>1.800000e+01</td>\n",
       "      <td>3.000000e+01</td>\n",
       "      <td>3.500000e+01</td>\n",
       "      <td>4.800000e+01</td>\n",
       "      <td>6.200000e+01</td>\n",
       "      <td>1.130000e+02</td>\n",
       "    </tr>\n",
       "    <tr>\n",
       "      <th>valor_emprestimo</th>\n",
       "      <td>50390.0</td>\n",
       "      <td>5.198887e+04</td>\n",
       "      <td>1.588819e+06</td>\n",
       "      <td>1.393000e+03</td>\n",
       "      <td>2.298035e+03</td>\n",
       "      <td>7.172175e+03</td>\n",
       "      <td>5.879202e+04</td>\n",
       "      <td>4.464769e+05</td>\n",
       "      <td>2.867894e+08</td>\n",
       "    </tr>\n",
       "    <tr>\n",
       "      <th>multa</th>\n",
       "      <td>50390.0</td>\n",
       "      <td>6.022658e+04</td>\n",
       "      <td>2.843941e+06</td>\n",
       "      <td>0.000000e+00</td>\n",
       "      <td>6.489650e+02</td>\n",
       "      <td>3.600000e+03</td>\n",
       "      <td>6.189092e+04</td>\n",
       "      <td>5.039267e+05</td>\n",
       "      <td>5.737759e+08</td>\n",
       "    </tr>\n",
       "    <tr>\n",
       "      <th>juros</th>\n",
       "      <td>50390.0</td>\n",
       "      <td>6.485391e+04</td>\n",
       "      <td>2.728170e+06</td>\n",
       "      <td>0.000000e+00</td>\n",
       "      <td>1.143320e+03</td>\n",
       "      <td>5.545427e+03</td>\n",
       "      <td>8.235361e+04</td>\n",
       "      <td>6.408426e+05</td>\n",
       "      <td>5.703619e+08</td>\n",
       "    </tr>\n",
       "    <tr>\n",
       "      <th>valor_emprestimo_atualizado</th>\n",
       "      <td>50390.0</td>\n",
       "      <td>1.770694e+05</td>\n",
       "      <td>7.058364e+06</td>\n",
       "      <td>1.397040e+03</td>\n",
       "      <td>5.652695e+03</td>\n",
       "      <td>1.903061e+04</td>\n",
       "      <td>2.006742e+05</td>\n",
       "      <td>1.586720e+06</td>\n",
       "      <td>1.430927e+09</td>\n",
       "    </tr>\n",
       "    <tr>\n",
       "      <th>id</th>\n",
       "      <td>50390.0</td>\n",
       "      <td>5.485969e+08</td>\n",
       "      <td>2.601500e+08</td>\n",
       "      <td>1.000172e+08</td>\n",
       "      <td>5.482058e+08</td>\n",
       "      <td>7.737146e+08</td>\n",
       "      <td>9.542667e+08</td>\n",
       "      <td>9.912031e+08</td>\n",
       "      <td>9.999988e+08</td>\n",
       "    </tr>\n",
       "  </tbody>\n",
       "</table>\n",
       "</div>"
      ],
      "text/plain": [
       "                               count          mean           std  \\\n",
       "idade                        50390.0  3.172453e+01  8.565117e+00   \n",
       "valor_emprestimo             50390.0  5.198887e+04  1.588819e+06   \n",
       "multa                        50390.0  6.022658e+04  2.843941e+06   \n",
       "juros                        50390.0  6.485391e+04  2.728170e+06   \n",
       "valor_emprestimo_atualizado  50390.0  1.770694e+05  7.058364e+06   \n",
       "id                           50390.0  5.485969e+08  2.601500e+08   \n",
       "\n",
       "                                      min           50%           75%  \\\n",
       "idade                        1.800000e+01  3.000000e+01  3.500000e+01   \n",
       "valor_emprestimo             1.393000e+03  2.298035e+03  7.172175e+03   \n",
       "multa                        0.000000e+00  6.489650e+02  3.600000e+03   \n",
       "juros                        0.000000e+00  1.143320e+03  5.545427e+03   \n",
       "valor_emprestimo_atualizado  1.397040e+03  5.652695e+03  1.903061e+04   \n",
       "id                           1.000172e+08  5.482058e+08  7.737146e+08   \n",
       "\n",
       "                                      95%           99%           max  \n",
       "idade                        4.800000e+01  6.200000e+01  1.130000e+02  \n",
       "valor_emprestimo             5.879202e+04  4.464769e+05  2.867894e+08  \n",
       "multa                        6.189092e+04  5.039267e+05  5.737759e+08  \n",
       "juros                        8.235361e+04  6.408426e+05  5.703619e+08  \n",
       "valor_emprestimo_atualizado  2.006742e+05  1.586720e+06  1.430927e+09  \n",
       "id                           9.542667e+08  9.912031e+08  9.999988e+08  "
      ]
     },
     "execution_count": 19,
     "metadata": {},
     "output_type": "execute_result"
    }
   ],
   "source": [
    "num_attributes.describe(percentiles=[0.99, 0.95,0.75,0.5]).T"
   ]
  },
  {
   "cell_type": "markdown",
   "metadata": {},
   "source": [
    "### 2.8.2 VARIAVEIS CATEGORICAS"
   ]
  },
  {
   "cell_type": "code",
   "execution_count": 21,
   "metadata": {},
   "outputs": [
    {
     "name": "stdout",
     "output_type": "stream",
     "text": [
      "dependentes\n",
      "N    0.639968\n",
      "S    0.360032\n",
      "Name: proportion, dtype: float64\n",
      "==========================\n",
      "\n",
      "\n",
      "estado_civil\n",
      "solteiro                                  0.547053\n",
      "casado(a) com comunhao parcial de bens    0.263604\n",
      "casado(a) com comunhao de bens            0.154098\n",
      "casado(a) com separacao de bens           0.030959\n",
      "separado judicialmente                    0.001469\n",
      "divorciado                                0.001330\n",
      "viuvo(a)                                  0.000814\n",
      "outros                                    0.000675\n",
      "Name: proportion, dtype: float64\n",
      "==========================\n",
      "\n",
      "\n",
      "conta_poupanca\n",
      "S    0.847986\n",
      "N    0.152014\n",
      "Name: proportion, dtype: float64\n",
      "==========================\n",
      "\n",
      "\n",
      "conta_salario\n",
      "N    0.976603\n",
      "S    0.023397\n",
      "Name: proportion, dtype: float64\n",
      "==========================\n",
      "\n",
      "\n",
      "cheque_sem_fundo\n",
      "S    0.769974\n",
      "N    0.230026\n",
      "Name: proportion, dtype: float64\n",
      "==========================\n",
      "\n",
      "\n",
      "conta_conjunta\n",
      "N    0.958285\n",
      "S    0.041715\n",
      "Name: proportion, dtype: float64\n",
      "==========================\n",
      "\n",
      "\n",
      "pago\n",
      "sim    0.790891\n",
      "nao    0.209109\n",
      "Name: proportion, dtype: float64\n",
      "==========================\n",
      "\n",
      "\n",
      "genero\n",
      "masculino    0.501667\n",
      "feminino     0.498333\n",
      "Name: proportion, dtype: float64\n",
      "==========================\n",
      "\n",
      "\n",
      "estado\n",
      "minas gerais      0.251340\n",
      "sao paulo         0.250189\n",
      "espirito santo    0.249772\n",
      "rio de janeiro    0.248700\n",
      "Name: proportion, dtype: float64\n",
      "==========================\n",
      "\n",
      "\n"
     ]
    }
   ],
   "source": [
    "for i in cat_attributes.columns:\n",
    "    print(cat_attributes[i].value_counts(normalize=True))\n",
    "    print('==========================\\n\\n')"
   ]
  },
  {
   "cell_type": "markdown",
   "metadata": {},
   "source": [
    "# 3.0 MIND MAP E ENGENHARIA DE VARIAVEIS"
   ]
  },
  {
   "cell_type": "code",
   "execution_count": 10,
   "metadata": {},
   "outputs": [],
   "source": [
    "df3 =df2.copy()"
   ]
  },
  {
   "cell_type": "markdown",
   "metadata": {},
   "source": [
    "## 3.1 MIND MAP"
   ]
  },
  {
   "cell_type": "code",
   "execution_count": 31,
   "metadata": {},
   "outputs": [
    {
     "data": {
      "image/png": "[encoded data removed]",
      "text/plain": [
       "<IPython.core.display.Image object>"
      ]
     },
     "execution_count": 31,
     "metadata": {},
     "output_type": "execute_result"
    }
   ],
   "source": [
    "Image(config['imagem']['path'])"
   ]
  },
  {
   "cell_type": "markdown",
   "metadata": {},
   "source": [
    "### Hipóteses de Informações dos Clientes"
   ]
  },
  {
   "cell_type": "markdown",
   "metadata": {},
   "source": [
    "1. Mulheres são em média 10% mais ADIMPLENTES.\n",
    "2. Clientes com Menos de 60 anos são em média 20% mais ADIMPLENTES.\n",
    "3. Clientes com Dependentes são em média 15% mais ADIMPLENTES.\n",
    "4. Clientes que são solteiros tem uma taxa percentual maior de INADIMPLÊNCIA que os demais."
   ]
  },
  {
   "cell_type": "markdown",
   "metadata": {},
   "source": [
    "### Hipóteses de Informações Bancárias"
   ]
  },
  {
   "cell_type": "markdown",
   "metadata": {},
   "source": [
    "5. Clientes com conta salário são em média 30% mais ADIMPLENTES.\n",
    "6. Clientes com conta poupança são em média 10% mais ADIMPLENTES.\n",
    "7. Clientes que já passaram cheque sem fundo são em média 15% mais INADIMPLENTES.\n",
    "8. Clientes que tem conta conjunta são em média 10% mais INADIMPLENTES."
   ]
  },
  {
   "cell_type": "markdown",
   "metadata": {},
   "source": [
    "### Hipóteses de Informações do Empréstimo"
   ]
  },
  {
   "cell_type": "markdown",
   "metadata": {},
   "source": [
    "9. Clientes que pegaram empréstimos de mais de RS$20000 tem tendência a ser INADIMPLENTES."
   ]
  },
  {
   "cell_type": "markdown",
   "metadata": {},
   "source": [
    "### Hipóteses de Informações de Localização"
   ]
  },
  {
   "cell_type": "markdown",
   "metadata": {},
   "source": [
    "10. Clientes que moram no Estado RJ E SP tem maior percentual de ADIMPLENTE\n",
    "do que ES e MG."
   ]
  },
  {
   "cell_type": "markdown",
   "metadata": {},
   "source": [
    "## 3.2 Engenharia de variaveis"
   ]
  },
  {
   "cell_type": "code",
   "execution_count": 11,
   "metadata": {},
   "outputs": [
    {
     "data": {
      "text/plain": [
       "50390"
      ]
     },
     "execution_count": 11,
     "metadata": {},
     "output_type": "execute_result"
    }
   ],
   "source": [
    "len(df3['id'].unique())"
   ]
  },
  {
   "cell_type": "code",
   "execution_count": 13,
   "metadata": {},
   "outputs": [
    {
     "data": {
      "text/plain": [
       "(50390, 21)"
      ]
     },
     "execution_count": 13,
     "metadata": {},
     "output_type": "execute_result"
    }
   ],
   "source": [
    "df3.shape"
   ]
  },
  {
   "cell_type": "code",
   "execution_count": 15,
   "metadata": {},
   "outputs": [],
   "source": [
    "df3['juros_porcentagem'] = df3['juros'] / df3['valor_emprestimo']"
   ]
  }
 ],
 "metadata": {
  "kernelspec": {
   "display_name": ".venv",
   "language": "python",
   "name": "python3"
  },
  "language_info": {
   "codemirror_mode": {
    "name": "ipython",
    "version": 3
   },
   "file_extension": ".py",
   "mimetype": "text/x-python",
   "name": "python",
   "nbconvert_exporter": "python",
   "pygments_lexer": "ipython3",
   "version": "3.10.12"
  }
 },
 "nbformat": 4,
 "nbformat_minor": 2
}
